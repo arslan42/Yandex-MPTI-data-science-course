{
 "cells": [
  {
   "cell_type": "code",
   "execution_count": 251,
   "metadata": {},
   "outputs": [],
   "source": [
    "import numpy as np"
   ]
  },
  {
   "cell_type": "code",
   "execution_count": 505,
   "metadata": {},
   "outputs": [],
   "source": [
    "def inting(f):\n",
    "    for i in range(len(f)):\n",
    "        if f[i]=='':\n",
    "            continue\n",
    "        b=f[i].split(',')\n",
    "        for k in range(len(b)):\n",
    "            b[k]=int(b[k])\n",
    "        f[i]=b\n",
    "    return f\n",
    "\n",
    "def counting(arr):\n",
    "    mas=[]\n",
    "    for i in range(len(arr)):\n",
    "        for k in range(len(arr[i])):\n",
    "            mas.append(arr[i][k])\n",
    "    npmas=np.array(mas)\n",
    "    npmas,countsmas=np.unique(npmas,return_counts=True)\n",
    "    counts_dict=dict(zip(npmas, countsmas))\n",
    "    sorted_dict={}\n",
    "    for k in sorted(counts_dict, key=counts_dict.get, reverse=True):\n",
    "        sorted_dict[k]=counts_dict[k]\n",
    "    return sorted_dict\n",
    "\n",
    "def peresech(a,b):\n",
    "    counter=0\n",
    "    for i in a:\n",
    "        if i in b:\n",
    "            counter+=1\n",
    "    return counter\n",
    "\n",
    "def average7(data,labels,k,counts):\n",
    "    precision=[]\n",
    "    recall=[]\n",
    "    for i in range(len(labels)):\n",
    "        #print('data[i]: ',data[i])\n",
    "        sess=[data[i][k] for k in sorted(np.unique(data[i], return_index=True)[1])]\n",
    "      \n",
    "        #print('sess: ',sess)\n",
    "        sswss=sorted(sess,key=lambda x: counts[x],reverse=True)\n",
    "        #print('swss: ',sswss)\n",
    "        #k1=min(k,len(sess))\n",
    "        N=peresech2(sswss[:k],labels[i])\n",
    "       # print('N: ',N)\n",
    "        prec=N/k\n",
    "        #print('prec: ',prec)\n",
    "        rec=N/len(labels[i])\n",
    "        #print('rec: ',rec)\n",
    "        precision.append(prec)\n",
    "        recall.append(rec)\n",
    "        #print(round(np.mean(recall),2),',',round(np.mean(precision),2))\n",
    "    return round(np.mean(recall),2),round(np.mean(precision),2)"
   ]
  },
  {
   "cell_type": "code",
   "execution_count": 299,
   "metadata": {},
   "outputs": [],
   "source": [
    "train_data=[]\n",
    "test_data=[]\n",
    "train_labels=[]\n",
    "test_labels=[]\n",
    "\n",
    "metric_train_data=[]\n",
    "metric_train_labels=[]"
   ]
  },
  {
   "cell_type": "code",
   "execution_count": 300,
   "metadata": {},
   "outputs": [],
   "source": [
    "with open('coursera_sessions_train.txt','r') as file:\n",
    "    for line in file.readlines():\n",
    "            train_data.append(line.split(';')[0])\n",
    "            train_labels.append(line.split(';')[1].split('\\n')[0])\n"
   ]
  },
  {
   "cell_type": "code",
   "execution_count": 301,
   "metadata": {},
   "outputs": [],
   "source": [
    "with open('coursera_sessions_test.txt','r') as file:\n",
    "    for line in file.readlines():\n",
    "            if line.split(';')[1]!='\\n':\n",
    "                test_data.append(line.split(';')[0])\n",
    "                test_labels.append(line.split(';')[1].split('\\n')[0])"
   ]
  },
  {
   "cell_type": "code",
   "execution_count": 302,
   "metadata": {},
   "outputs": [],
   "source": [
    "with open('coursera_sessions_train.txt','r') as file:\n",
    "    for line in file.readlines():\n",
    "            if line.split(';')[1]!='\\n':\n",
    "                metric_train_data.append(line.split(';')[0])\n",
    "                metric_train_labels.append(line.split(';')[1].split('\\n')[0])"
   ]
  },
  {
   "cell_type": "code",
   "execution_count": 303,
   "metadata": {},
   "outputs": [],
   "source": [
    "train_data=inting(train_data)\n",
    "test_data=inting(test_data)\n",
    "train_labels=inting(train_labels)\n",
    "test_labels=inting(test_labels)\n",
    "metric_train_data=inting(metric_train_data)\n",
    "metric_train_labels=inting(metric_train_labels)"
   ]
  },
  {
   "cell_type": "code",
   "execution_count": 304,
   "metadata": {},
   "outputs": [],
   "source": [
    "counts_d=counting(train_data)\n",
    "counts_l=counting(train_labels)"
   ]
  },
  {
   "cell_type": "code",
   "execution_count": 305,
   "metadata": {},
   "outputs": [],
   "source": [
    "mas=[]\n",
    "for i in range(len(train_data)):\n",
    "    for k in range(len(train_data[i])):\n",
    "        mas.append(train_data[i][k])\n",
    "for i in mas:\n",
    "    if i not in counts_d.keys():\n",
    "        counts_d[i]=0\n",
    "    if i not in counts_l.keys():\n",
    "        counts_l[i]=0"
   ]
  },
  {
   "cell_type": "code",
   "execution_count": 307,
   "metadata": {},
   "outputs": [],
   "source": [
    "mas2=[]\n",
    "for i in range(len(train_labels)):\n",
    "    for k in range(len(train_labels[i])):\n",
    "        mas2.append(train_labels[i][k])\n",
    "for i in mas2:\n",
    "    if i not in counts_d.keys():\n",
    "        counts_d[i]=0\n",
    "    if i not in counts_l.keys():\n",
    "        counts_l[i]=0"
   ]
  },
  {
   "cell_type": "code",
   "execution_count": 309,
   "metadata": {},
   "outputs": [],
   "source": [
    "mas3=[]\n",
    "for i in range(len(test_labels)):\n",
    "    for k in range(len(test_labels[i])):\n",
    "        mas3.append(test_labels[i][k])\n",
    "for i in mas3:\n",
    "    if i not in counts_d.keys():\n",
    "        counts_d[i]=0\n",
    "    if i not in counts_l.keys():\n",
    "        counts_l[i]=0"
   ]
  },
  {
   "cell_type": "code",
   "execution_count": 311,
   "metadata": {},
   "outputs": [],
   "source": [
    "mas4=[]\n",
    "for i in range(len(test_data)):\n",
    "    for k in range(len(test_data[i])):\n",
    "        mas4.append(test_data[i][k])\n",
    "for i in mas4:\n",
    "    if i not in counts_l.keys():\n",
    "        counts_l[i]=0\n",
    "    if i not in counts_d.keys():\n",
    "        counts_d[i]=0"
   ]
  },
  {
   "cell_type": "markdown",
   "metadata": {},
   "source": [
    "Расчет averagerecall@1/5 и averageprecision@1/5 для частоты появления в просмотренных в обучающей выборке"
   ]
  },
  {
   "cell_type": "code",
   "execution_count": 506,
   "metadata": {},
   "outputs": [
    {
     "name": "stdout",
     "output_type": "stream",
     "text": [
      "0.44 0.51\n",
      "0.82 0.21\n"
     ]
    }
   ],
   "source": [
    "LDDavgr1,LDDavgp1=average7(metric_train_data,metric_train_labels,1,counts_d)\n",
    "print(LDDavgr1,LDDavgp1)\n",
    "LDDavgr5,LDDavgp5=average7(metric_train_data,metric_train_labels,5,counts_d)\n",
    "print(LDDavgr5,LDDavgp5)"
   ]
  },
  {
   "cell_type": "code",
   "execution_count": 516,
   "metadata": {},
   "outputs": [],
   "source": [
    "with open('Answer1.txt','w') as file:\n",
    "    answer=' '.join([str(LDDavgr1),str(LDDavgp1),str(LDDavgr5),str(LDDavgp5)])\n",
    "    file.write(answer)"
   ]
  },
  {
   "cell_type": "markdown",
   "metadata": {},
   "source": [
    "Расчет averagerecall@1/5 и averageprecision@1/5 для частоты появления в просмотренных в тестовой выборке"
   ]
  },
  {
   "cell_type": "code",
   "execution_count": 507,
   "metadata": {},
   "outputs": [
    {
     "name": "stdout",
     "output_type": "stream",
     "text": [
      "0.42 0.48\n",
      "0.8 0.2\n"
     ]
    }
   ],
   "source": [
    "TDDavgr1,TDDavgp1=average7(test_data,test_labels,1,counts_d)\n",
    "print(TDDavgr1,TDDavgp1)\n",
    "TDDavgr5,TDDavgp5=average7(test_data,test_labels,5,counts_d)\n",
    "print(TDDavgr5,TDDavgp5)\n"
   ]
  },
  {
   "cell_type": "code",
   "execution_count": 517,
   "metadata": {},
   "outputs": [],
   "source": [
    "with open('Answer2.txt','w') as file:\n",
    "    answer=' '.join([str(TDDavgr1),str(TDDavgp1),str(TDDavgr5),str(TDDavgp5)])\n",
    "    file.write(answer)"
   ]
  },
  {
   "cell_type": "markdown",
   "metadata": {},
   "source": [
    "Расчет averagerecall@1/5 и averageprecision@1/5 для частоты появления в покупках в обучающей выборке"
   ]
  },
  {
   "cell_type": "code",
   "execution_count": 508,
   "metadata": {},
   "outputs": [
    {
     "name": "stdout",
     "output_type": "stream",
     "text": [
      "0.69 0.8\n",
      "0.93 0.25\n"
     ]
    }
   ],
   "source": [
    "LLLavgr1,LLLavgp1=average7(metric_train_data,metric_train_labels,1,counts_l)\n",
    "print(LLLavgr1,LLLavgp1)\n",
    "LLLavgr5,LLLavgp5=average7(metric_train_data,metric_train_labels,5,counts_l)\n",
    "print(LLLavgr5,LLLavgp5)"
   ]
  },
  {
   "cell_type": "code",
   "execution_count": 518,
   "metadata": {},
   "outputs": [],
   "source": [
    "with open('Answer3.txt','w') as file:\n",
    "    answer=' '.join([str(LLLavgr1),str(LLLavgp1),str(LLLavgr5),str(LLLavgp5)])\n",
    "    file.write(answer)"
   ]
  },
  {
   "cell_type": "markdown",
   "metadata": {},
   "source": [
    "Расчет averagerecall@1/5 и averageprecision@1/5 для частоты появления в покупках в тестовой выборке"
   ]
  },
  {
   "cell_type": "code",
   "execution_count": 509,
   "metadata": {
    "scrolled": true
   },
   "outputs": [
    {
     "name": "stdout",
     "output_type": "stream",
     "text": [
      "0.46 0.53\n",
      "0.82 0.21\n"
     ]
    }
   ],
   "source": [
    "TLLavgr1,TLLavgp1=average7(test_data,test_labels,1,counts_l)\n",
    "print(TLLavgr1,TLLavgp1)\n",
    "TLLavgr5,TLLavgp5=average7(test_data,test_labels,5,counts_l)\n",
    "print(TLLavgr5,TLLavgp5)"
   ]
  },
  {
   "cell_type": "code",
   "execution_count": 519,
   "metadata": {},
   "outputs": [],
   "source": [
    "with open('Answer4.txt','w') as file:\n",
    "    answer=' '.join([str(TLLavgr1),str(TLLavgp1),str(TLLavgr5),str(TLLavgp5)])\n",
    "    file.write(answer)"
   ]
  }
 ],
 "metadata": {
  "kernelspec": {
   "display_name": "Python 3",
   "language": "python",
   "name": "python3"
  },
  "language_info": {
   "codemirror_mode": {
    "name": "ipython",
    "version": 3
   },
   "file_extension": ".py",
   "mimetype": "text/x-python",
   "name": "python",
   "nbconvert_exporter": "python",
   "pygments_lexer": "ipython3",
   "version": "3.7.3"
  }
 },
 "nbformat": 4,
 "nbformat_minor": 2
}
